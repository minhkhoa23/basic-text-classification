{
 "cells": [
  {
   "cell_type": "markdown",
   "id": "9357bac3",
   "metadata": {},
   "source": [
    "#  PHÂN LỚP VĂN BẢN CƠ BẢN"
   ]
  },
  {
   "cell_type": "markdown",
   "id": "12b1bd84",
   "metadata": {},
   "source": [
    "## Naive Bayes cơ bản"
   ]
  },
  {
   "cell_type": "markdown",
   "id": "012716e2",
   "metadata": {},
   "source": [
    "Bộ dữ liệu 1"
   ]
  },
  {
   "cell_type": "code",
   "execution_count": 3,
   "id": "03f7e952",
   "metadata": {},
   "outputs": [],
   "source": [
    "train = [ \n",
    "[\"just plain boring\", \"-\"], \n",
    "[\"entirely predictable and lacks energy\", \"-\"], \n",
    "[\"no surprises and very few laughs\", \"-\"], \n",
    "[\"very powerful\", \"+\"], \n",
    "[\"the most fun film of the summer\", \"+\"] \n",
    "] \n",
    "test = \"predictable with no fun\""
   ]
  },
  {
   "cell_type": "markdown",
   "id": "ef7ce791",
   "metadata": {},
   "source": [
    "Bộ dữ liệu 2"
   ]
  },
  {
   "cell_type": "code",
   "execution_count": 2,
   "id": "7cbb6b9d",
   "metadata": {},
   "outputs": [],
   "source": [
    "train2 = [ \n",
    "[\"sản_phẩm A rất tốt.\", \"+\"], \n",
    "[\"tôi không thích sản_phẩm A.\", \"-\"], \n",
    "[\"màu_sắc của A thật tốt.\", \"+\"], \n",
    "[\"sản_phẩm A thật kinh_khủng.\", \"-\"], \n",
    "] \n",
    "test2 = [ \n",
    "\"sản_phẩm A khá tốt.\" \n",
    "\"màu_sắc quá kinh_khủng.\" \n",
    "]"
   ]
  },
  {
   "cell_type": "markdown",
   "id": "b15e770c",
   "metadata": {},
   "source": [
    "### Xây dựng tập từ vựng"
   ]
  },
  {
   "cell_type": "code",
   "execution_count": null,
   "id": "d95c89ce",
   "metadata": {},
   "outputs": [],
   "source": [
    "Word_Total = [] # Tập từ vựng\n",
    "Word_Positive = [] # Tập các từ gán nhãn +\n",
    "Word_Negative = [] # Tập các từ gán nhãn -\n",
    "y_Train = [] # Tập các nhãn của các câu\n",
    "Prior_Positive = [] # Xác suất của nhãn +\n",
    "Prior_Negative = [] # Xác suất của nhãn -\n",
    "\n",
    "for s in train:\n",
    "    if s[1] == '+':\n",
    "        Word_Positive.extend(s[0].split())\n",
    "        Prior_Positive += 1\n",
    "    else:\n",
    "        Word_Negative.extend(s[0].split())\n",
    "        Prior_Negative += 1\n",
    "    y_Train.append(s[1])\n",
    "\n",
    "Word_Total = set(Word_Positive + Word_Negative)\n",
    "\n",
    "Count_Positive = len(Word_Positive)\n",
    "Count_Negative = len(Word_Negative)\n",
    "Count_Total = Count_Positive + Count_Negative\n",
    "Prior_Positive /= len(y_Train)\n",
    "Prior_Negative /= len(y_Train)"
   ]
  },
  {
   "cell_type": "code",
   "execution_count": null,
   "id": "8fe0c4ea",
   "metadata": {},
   "outputs": [],
   "source": [
    "#Loai bo tu 'With'\n",
    "test_new = test.split()\n",
    "test_new.remove('with')"
   ]
  },
  {
   "cell_type": "code",
   "execution_count": null,
   "id": "733a8e7e",
   "metadata": {},
   "outputs": [],
   "source": [
    "P_Positive = []\n",
    "P_Negative = []\n",
    "\n",
    "# Tính xác suất có điều kiện với Laplace smoothing\n",
    "\n",
    "for i in test_new:\n",
    "    a = Word_Negative.count(i)\n",
    "    b = Word_Positive.count(i)\n",
    "    P_Negative.append((a + 1) / (Count_Negative + Count_Total))\n",
    "    P_Positive.append((b + 1) / (Count_Positive + Count_Total))"
   ]
  },
  {
   "cell_type": "code",
   "execution_count": null,
   "id": "6a4ed9de",
   "metadata": {},
   "outputs": [],
   "source": [
    "P_test_Positive = Prior_Positive\n",
    "P_test_Negative = Prior_Negative\n",
    "\n",
    "# công thức của unigram\n",
    "for i in range(len(test_new)):\n",
    "    P_test_Positive *= P_Positive[i]\n",
    "    P_test_Negative *= P_Negative[i]\n",
    "\n",
    "print('P(+)P(S|+) =', P_test_Positive)\n",
    "print('P(-)P(S|-) =', P_test_Negative)\n",
    "\n",
    "if P_test_Positive > P_test_Negative:\n",
    "    print('The class of \"{}\" is +'.format(test))\n",
    "else:\n",
    "  print('The class of \"{}\" is -'.format(test))"
   ]
  }
 ],
 "metadata": {
  "kernelspec": {
   "display_name": "Python 3",
   "language": "python",
   "name": "python3"
  },
  "language_info": {
   "codemirror_mode": {
    "name": "ipython",
    "version": 3
   },
   "file_extension": ".py",
   "mimetype": "text/x-python",
   "name": "python",
   "nbconvert_exporter": "python",
   "pygments_lexer": "ipython3",
   "version": "3.13.4"
  }
 },
 "nbformat": 4,
 "nbformat_minor": 5
}
